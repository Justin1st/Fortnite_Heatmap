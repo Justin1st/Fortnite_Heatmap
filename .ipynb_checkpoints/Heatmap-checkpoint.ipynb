{
 "cells": [
  {
   "cell_type": "code",
   "execution_count": null,
   "metadata": {
    "collapsed": true
   },
   "outputs": [],
   "source": []
  },
  {
   "cell_type": "code",
   "execution_count": 1,
   "metadata": {},
   "outputs": [
    {
     "name": "stderr",
     "output_type": "stream",
     "text": [
      "/Users/shivanikohli/Documents/anaconda3/lib/python3.6/site-packages/statsmodels/compat/pandas.py:56: FutureWarning: The pandas.core.datetools module is deprecated and will be removed in a future version. Please use the pandas.tseries module instead.\n",
      "  from pandas.core import datetools\n"
     ]
    }
   ],
   "source": [
    "import pandas as pd\n",
    "import matplotlib.pyplot as plt\n",
    "import numpy as np\n",
    "import statsmodels.api as sm\n",
    "import seaborn as sns\n",
    "from sklearn import metrics\n",
    "%matplotlib inline\n",
    "\n",
    "data = pd.read_csv(\"Fortnite.csv\")\n",
    "df = pd.read_csv(\"rawData.csv\")"
   ]
  },
  {
   "cell_type": "code",
   "execution_count": 2,
   "metadata": {},
   "outputs": [],
   "source": [
    "droppedLocations = data[\"Location\"]\n",
    "# creates a substring of only the first letter\n",
    "firstLocation = droppedLocations[0][:1]"
   ]
  },
  {
   "cell_type": "code",
   "execution_count": 4,
   "metadata": {},
   "outputs": [],
   "source": [
    "# retrives size of droppedLocations array\n",
    "droppedLocations.size\n",
    "\n",
    "# empty lists created to store x & y values of dropped locations respectively\n",
    "xVals = []\n",
    "yVals = []\n",
    "\n",
    "for x in range(0, droppedLocations.size):\n",
    "    quadrantLetter = droppedLocations[x][:1]\n",
    "    quadrantNum = droppedLocations[x][1]\n",
    "    # for the x values\n",
    "    if (quadrantLetter == \"A\"):\n",
    "        xVals.append(1)\n",
    "    elif (quadrantLetter == \"B\"):\n",
    "        xVals.append(2)\n",
    "    elif (quadrantLetter == \"C\"):\n",
    "        xVals.append(3)\n",
    "    elif (quadrantLetter == \"D\"):\n",
    "        xVals.append(4)\n",
    "    elif (quadrantLetter == \"E\"):\n",
    "        xVals.append(5)\n",
    "    elif (quadrantLetter == \"F\"):\n",
    "        xVals.append(6)\n",
    "    elif (quadrantLetter == \"G\"):\n",
    "        xVals.append(7)\n",
    "    elif (quadrantLetter == \"H\"):\n",
    "        xVals.append(8)\n",
    "    elif (quadrantLetter == \"I\"):\n",
    "        xVals.append(9)\n",
    "    elif (quadrantLetter == \"J\"):\n",
    "        xVals.append(10)\n",
    "    \n",
    "    # for the y values\n",
    "    if (quadrantNum == \"1\"):\n",
    "        yVals.append(1)\n",
    "    elif (quadrantNum == \"2\"):\n",
    "        yVals.append(2)\n",
    "    elif (quadrantNum == \"3\"):\n",
    "        yVals.append(3)\n",
    "    elif (quadrantNum == \"4\"):\n",
    "        yVals.append(4)\n",
    "    elif (quadrantNum == \"5\"):\n",
    "        yVals.append(5)\n",
    "    elif (quadrantNum == \"6\"):\n",
    "        yVals.append(6)\n",
    "    elif (quadrantNum == \"7\"):\n",
    "        yVals.append(7)\n",
    "    elif (quadrantNum == \"8\"):\n",
    "        yVals.append(8)\n",
    "    elif (quadrantNum == \"9\"):\n",
    "        yVals.append(9)\n",
    "    elif (quadrantNum == \"10\"):\n",
    "        yVals.append(10)\n",
    "    "
   ]
  },
  {
   "cell_type": "code",
   "execution_count": 5,
   "metadata": {},
   "outputs": [],
   "source": [
    "# xVals stores the corresponding numbers of the lettered quadrants\n",
    "# yVals stores the corresponding numbers of the numbered quadrants\n",
    "\n",
    "# list containing ordered pairs of the coordinates\n",
    "coordinates = []\n",
    "\n",
    "# creates array/list of ordered pairs of the coordinates from xVals and yVals\n",
    "for x in range(0, droppedLocations.size):\n",
    "    coords = tuple([xVals[x], yVals[x]])\n",
    "    coordinates.append(coords)"
   ]
  },
  {
   "cell_type": "code",
   "execution_count": 6,
   "metadata": {},
   "outputs": [
    {
     "data": {
      "text/plain": [
       "array([[  0,   6,   0,   4,   0,   0,   0,   0,   0,   0],\n",
       "       [  8,  24,  12,  18,   2,  26,  12,   6,   8,   6],\n",
       "       [  8,  14,  43,   4,   4,  14,  10,   8,  18,   0],\n",
       "       [  6,   2,   4,   4,  20,   6,   8,  12,   6,   2],\n",
       "       [ 35,   0,  14, 124,   0,  14,   2,   2,   2,  10],\n",
       "       [ 18,   2,   2,  20,   4,   6,  18,  56,   2,   6],\n",
       "       [ 10,   4,  20,  38,   2,  58,   6,   4,   4,   2],\n",
       "       [  0,   0,   0,   8,   6,  14,  20,  16,  26,   0],\n",
       "       [  0,   0,   0,  14,  16,   2,   4,   0,   6,   0],\n",
       "       [  0,   0,   0,   0,   0,  28,   6,   0,   0,   0]])"
      ]
     },
     "execution_count": 6,
     "metadata": {},
     "output_type": "execute_result"
    }
   ],
   "source": [
    "cm = metrics.confusion_matrix(yVals, xVals)\n",
    "practice_cm = cm\n",
    "\n",
    "if (practice_cm[0][0] > 0):\n",
    "    practice_cm[0][0] = 0\n",
    "if (practice_cm[7][0] > 0):\n",
    "    practice_cm[7][0] = 0\n",
    "if (practice_cm[8][0] > 0):\n",
    "    practice_cm[8][0] = 0\n",
    "if (practice_cm[9][0] > 0):\n",
    "    practice_cm[9][0] = 0\n",
    "if (practice_cm[7][1] > 0):\n",
    "    practice_cm[7][1] = 0\n",
    "if (practice_cm[8][1] > 0):\n",
    "    practice_cm[8][1] = 0\n",
    "if (practice_cm[9][2] > 0):\n",
    "    practice_cm[9][2] = 0\n",
    "if (practice_cm[0][4] > 0):\n",
    "    practice_cm[0][4] = 0\n",
    "if (practice_cm[0][5] > 0):\n",
    "    practice_cm[0][5] = 0\n",
    "if (practice_cm[0][6] > 0):\n",
    "    practice_cm[0][6] = 0\n",
    "if (practice_cm[0][7] > 0):\n",
    "    practice_cm[0][7] = 0\n",
    "if (practice_cm[0][8] > 0):\n",
    "    practice_cm[0][8] = 0\n",
    "if (practice_cm[9][8] > 0):\n",
    "    practice_cm[9][8] = 0\n",
    "if (practice_cm[0][9] > 0):\n",
    "    practice_cm[0][9] = 0\n",
    "if (practice_cm[8][9] > 0):\n",
    "    practice_cm[8][9] = 0\n",
    "if (practice_cm[9][9] > 0):\n",
    "    practice_cm[9][9] = 0\n",
    "    \n",
    "practice_cm[9][5] = 28\n",
    "practice_cm[9][6] = 6\n",
    "    \n",
    "practice_cm"
   ]
  },
  {
   "cell_type": "code",
   "execution_count": 7,
   "metadata": {},
   "outputs": [
    {
     "ename": "FileNotFoundError",
     "evalue": "[Errno 2] No such file or directory: '/Users/Joey/Desktop/fortnite_map1.png'",
     "output_type": "error",
     "traceback": [
      "\u001b[0;31m---------------------------------------------------------------------------\u001b[0m",
      "\u001b[0;31mFileNotFoundError\u001b[0m                         Traceback (most recent call last)",
      "\u001b[0;32m<ipython-input-7-916890a4e564>\u001b[0m in \u001b[0;36m<module>\u001b[0;34m()\u001b[0m\n\u001b[1;32m      1\u001b[0m \u001b[0mplt\u001b[0m\u001b[0;34m.\u001b[0m\u001b[0msubplots\u001b[0m\u001b[0;34m(\u001b[0m\u001b[0mfigsize\u001b[0m\u001b[0;34m=\u001b[0m\u001b[0;34m(\u001b[0m\u001b[0;36m10\u001b[0m\u001b[0;34m,\u001b[0m\u001b[0;36m10\u001b[0m\u001b[0;34m)\u001b[0m\u001b[0;34m)\u001b[0m\u001b[0;34m\u001b[0m\u001b[0m\n\u001b[0;32m----> 2\u001b[0;31m \u001b[0mimplot\u001b[0m \u001b[0;34m=\u001b[0m \u001b[0mplt\u001b[0m\u001b[0;34m.\u001b[0m\u001b[0mimshow\u001b[0m\u001b[0;34m(\u001b[0m\u001b[0mplt\u001b[0m\u001b[0;34m.\u001b[0m\u001b[0mimread\u001b[0m\u001b[0;34m(\u001b[0m\u001b[0;34m\"/Users/Joey/Desktop/fortnite_map1.png\"\u001b[0m\u001b[0;34m)\u001b[0m\u001b[0;34m,\u001b[0m \u001b[0maspect\u001b[0m\u001b[0;34m=\u001b[0m\u001b[0;34m'auto'\u001b[0m\u001b[0;34m,\u001b[0m \u001b[0mextent\u001b[0m\u001b[0;34m=\u001b[0m\u001b[0;34m[\u001b[0m\u001b[0;36m0\u001b[0m\u001b[0;34m,\u001b[0m\u001b[0;36m10\u001b[0m\u001b[0;34m,\u001b[0m\u001b[0;36m10\u001b[0m\u001b[0;34m,\u001b[0m\u001b[0;36m0\u001b[0m\u001b[0;34m]\u001b[0m\u001b[0;34m)\u001b[0m\u001b[0;34m\u001b[0m\u001b[0m\n\u001b[0m\u001b[1;32m      3\u001b[0m \u001b[0;34m\u001b[0m\u001b[0m\n\u001b[1;32m      4\u001b[0m \u001b[0mcm\u001b[0m \u001b[0;34m=\u001b[0m \u001b[0mmetrics\u001b[0m\u001b[0;34m.\u001b[0m\u001b[0mconfusion_matrix\u001b[0m\u001b[0;34m(\u001b[0m\u001b[0myVals\u001b[0m\u001b[0;34m,\u001b[0m \u001b[0mxVals\u001b[0m\u001b[0;34m)\u001b[0m\u001b[0;34m\u001b[0m\u001b[0m\n\u001b[1;32m      5\u001b[0m \u001b[0;34m\u001b[0m\u001b[0m\n",
      "\u001b[0;32m~/Documents/anaconda3/lib/python3.6/site-packages/matplotlib/pyplot.py\u001b[0m in \u001b[0;36mimread\u001b[0;34m(*args, **kwargs)\u001b[0m\n\u001b[1;32m   2231\u001b[0m \u001b[0;34m@\u001b[0m\u001b[0mdocstring\u001b[0m\u001b[0;34m.\u001b[0m\u001b[0mcopy_dedent\u001b[0m\u001b[0;34m(\u001b[0m\u001b[0m_imread\u001b[0m\u001b[0;34m)\u001b[0m\u001b[0;34m\u001b[0m\u001b[0m\n\u001b[1;32m   2232\u001b[0m \u001b[0;32mdef\u001b[0m \u001b[0mimread\u001b[0m\u001b[0;34m(\u001b[0m\u001b[0;34m*\u001b[0m\u001b[0margs\u001b[0m\u001b[0;34m,\u001b[0m \u001b[0;34m**\u001b[0m\u001b[0mkwargs\u001b[0m\u001b[0;34m)\u001b[0m\u001b[0;34m:\u001b[0m\u001b[0;34m\u001b[0m\u001b[0m\n\u001b[0;32m-> 2233\u001b[0;31m     \u001b[0;32mreturn\u001b[0m \u001b[0m_imread\u001b[0m\u001b[0;34m(\u001b[0m\u001b[0;34m*\u001b[0m\u001b[0margs\u001b[0m\u001b[0;34m,\u001b[0m \u001b[0;34m**\u001b[0m\u001b[0mkwargs\u001b[0m\u001b[0;34m)\u001b[0m\u001b[0;34m\u001b[0m\u001b[0m\n\u001b[0m\u001b[1;32m   2234\u001b[0m \u001b[0;34m\u001b[0m\u001b[0m\n\u001b[1;32m   2235\u001b[0m \u001b[0;34m\u001b[0m\u001b[0m\n",
      "\u001b[0;32m~/Documents/anaconda3/lib/python3.6/site-packages/matplotlib/image.py\u001b[0m in \u001b[0;36mimread\u001b[0;34m(fname, format)\u001b[0m\n\u001b[1;32m   1297\u001b[0m             \u001b[0;32mreturn\u001b[0m \u001b[0mhandler\u001b[0m\u001b[0;34m(\u001b[0m\u001b[0mfd\u001b[0m\u001b[0;34m)\u001b[0m\u001b[0;34m\u001b[0m\u001b[0m\n\u001b[1;32m   1298\u001b[0m         \u001b[0;32melse\u001b[0m\u001b[0;34m:\u001b[0m\u001b[0;34m\u001b[0m\u001b[0m\n\u001b[0;32m-> 1299\u001b[0;31m             \u001b[0;32mwith\u001b[0m \u001b[0mopen\u001b[0m\u001b[0;34m(\u001b[0m\u001b[0mfname\u001b[0m\u001b[0;34m,\u001b[0m \u001b[0;34m'rb'\u001b[0m\u001b[0;34m)\u001b[0m \u001b[0;32mas\u001b[0m \u001b[0mfd\u001b[0m\u001b[0;34m:\u001b[0m\u001b[0;34m\u001b[0m\u001b[0m\n\u001b[0m\u001b[1;32m   1300\u001b[0m                 \u001b[0;32mreturn\u001b[0m \u001b[0mhandler\u001b[0m\u001b[0;34m(\u001b[0m\u001b[0mfd\u001b[0m\u001b[0;34m)\u001b[0m\u001b[0;34m\u001b[0m\u001b[0m\n\u001b[1;32m   1301\u001b[0m     \u001b[0;32melse\u001b[0m\u001b[0;34m:\u001b[0m\u001b[0;34m\u001b[0m\u001b[0m\n",
      "\u001b[0;31mFileNotFoundError\u001b[0m: [Errno 2] No such file or directory: '/Users/Joey/Desktop/fortnite_map1.png'"
     ]
    },
    {
     "data": {
      "image/png": "[encoded data removed]",
      "text/plain": [
       "<matplotlib.figure.Figure at 0x104df0cc0>"
      ]
     },
     "metadata": {},
     "output_type": "display_data"
    }
   ],
   "source": [
    "plt.subplots(figsize=(10,10))\n",
    "implot = plt.imshow(plt.imread(\"./fortnite_map.jpg\"), aspect='auto', extent=[0,10,10,0])\n",
    "\n",
    "cm = metrics.confusion_matrix(yVals, xVals)\n",
    "\n",
    "width, height = cm.shape\n",
    "\n",
    "for x in range(width):\n",
    "    for y in range(height):\n",
    "        text = plt.text(y, x, practice_cm[x,y],\n",
    "                       ha=\"left\", va=\"top\", color='w')\n",
    "\n",
    "plt.imshow(practice_cm, alpha=0.35, cmap='hot', extent=[0,10,10,0])"
   ]
  },
  {
   "cell_type": "code",
   "execution_count": null,
   "metadata": {},
   "outputs": [],
   "source": []
  },
  {
   "cell_type": "code",
   "execution_count": null,
   "metadata": {},
   "outputs": [],
   "source": []
  },
  {
   "cell_type": "code",
   "execution_count": null,
   "metadata": {},
   "outputs": [],
   "source": []
  }
 ],
 "metadata": {
  "kernelspec": {
   "display_name": "Python 3",
   "language": "python",
   "name": "python3"
  },
  "language_info": {
   "codemirror_mode": {
    "name": "ipython",
    "version": 3
   },
   "file_extension": ".py",
   "mimetype": "text/x-python",
   "name": "python",
   "nbconvert_exporter": "python",
   "pygments_lexer": "ipython3",
   "version": "3.6.3"
  }
 },
 "nbformat": 4,
 "nbformat_minor": 2
}
